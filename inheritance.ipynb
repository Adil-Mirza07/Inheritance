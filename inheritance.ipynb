{
 "cells": [
  {
   "cell_type": "code",
   "execution_count": 1,
   "id": "a1814ec4-b0dc-4302-afd1-5e5410ea56fc",
   "metadata": {},
   "outputs": [],
   "source": [
    "class parent:\n",
    "    \n",
    "    def test_parent(self):\n",
    "        print(\"this is my parent class \")"
   ]
  },
  {
   "cell_type": "code",
   "execution_count": 2,
   "id": "56037576-34dd-4f0f-b369-263d1e735b2e",
   "metadata": {},
   "outputs": [],
   "source": [
    "class child(parent):\n",
    "    pass"
   ]
  },
  {
   "cell_type": "code",
   "execution_count": 3,
   "id": "c48e9b80-b533-4b40-bbd6-3ef664a2e36a",
   "metadata": {},
   "outputs": [],
   "source": [
    "child_obj = child()"
   ]
  },
  {
   "cell_type": "code",
   "execution_count": 4,
   "id": "b1f01dd3-8586-4c07-8ef9-ce69e68833e4",
   "metadata": {},
   "outputs": [
    {
     "name": "stdout",
     "output_type": "stream",
     "text": [
      "this is my parent class \n"
     ]
    }
   ],
   "source": [
    "child_obj.test_parent()"
   ]
  },
  {
   "cell_type": "code",
   "execution_count": 5,
   "id": "ce5bdb81-e882-4c58-8b36-156673448449",
   "metadata": {},
   "outputs": [],
   "source": [
    "class class1 :\n",
    "    def test_class1(self) :\n",
    "        print(\"this is my class1 \" )"
   ]
  },
  {
   "cell_type": "code",
   "execution_count": 8,
   "id": "b1fc9911-d372-401f-a705-f73d4bc7166e",
   "metadata": {},
   "outputs": [],
   "source": [
    "class class2(class1) :\n",
    "    def test_class2(self) :\n",
    "        print(\"this is my class2\" )"
   ]
  },
  {
   "cell_type": "code",
   "execution_count": 9,
   "id": "5d4c04ba-0aa1-4e5d-96bb-79fc9c11f13b",
   "metadata": {},
   "outputs": [],
   "source": [
    "class class3(class2) :\n",
    "    def test_class3(self) :\n",
    "        print(\"this is my class \")"
   ]
  },
  {
   "cell_type": "code",
   "execution_count": 10,
   "id": "0b37d95e-ba9b-4773-a57a-270af58166f1",
   "metadata": {},
   "outputs": [],
   "source": [
    "obj_class3 = class3()"
   ]
  },
  {
   "cell_type": "code",
   "execution_count": 11,
   "id": "e4b1e7e4-c146-457d-aec1-98543305d53b",
   "metadata": {},
   "outputs": [
    {
     "name": "stdout",
     "output_type": "stream",
     "text": [
      "this is my class1 \n"
     ]
    }
   ],
   "source": [
    "obj_class3.test_class1()"
   ]
  },
  {
   "cell_type": "code",
   "execution_count": 12,
   "id": "c0b7534e-0be2-4a40-95f2-0b2c1a14ab9d",
   "metadata": {},
   "outputs": [
    {
     "name": "stdout",
     "output_type": "stream",
     "text": [
      "this is my class2\n"
     ]
    }
   ],
   "source": [
    "obj_class3.test_class2()"
   ]
  },
  {
   "cell_type": "code",
   "execution_count": 14,
   "id": "a0da64d5-db9b-4fc3-a831-e8b9505bf9d5",
   "metadata": {},
   "outputs": [
    {
     "name": "stdout",
     "output_type": "stream",
     "text": [
      "this is my class \n"
     ]
    }
   ],
   "source": [
    "obj_class3.test_class3()"
   ]
  },
  {
   "cell_type": "code",
   "execution_count": 15,
   "id": "36b3aa1f-0ffe-46a5-8fa2-30e8eea21b94",
   "metadata": {},
   "outputs": [],
   "source": [
    "class class1:\n",
    "    def test_class1(self) :\n",
    "        print(\"this is my class 1\" )"
   ]
  },
  {
   "cell_type": "code",
   "execution_count": 16,
   "id": "79000000-4c29-456e-bbc5-58b83a8a4e8d",
   "metadata": {},
   "outputs": [],
   "source": [
    "class class2 :\n",
    "    def test_class2(self) :\n",
    "        print(\"this is my class 2\")"
   ]
  },
  {
   "cell_type": "code",
   "execution_count": 17,
   "id": "9b4adad1-9d8b-46ca-87ba-df428193913a",
   "metadata": {},
   "outputs": [],
   "source": [
    "class class3 (class1 , class2) :\n",
    "    pass"
   ]
  },
  {
   "cell_type": "code",
   "execution_count": 18,
   "id": "be8356b5-657f-44cf-a2c0-b2cc828e5b34",
   "metadata": {},
   "outputs": [],
   "source": [
    "obj_class3 = class3()"
   ]
  },
  {
   "cell_type": "code",
   "execution_count": 19,
   "id": "fe2454d7-8d83-4916-b11b-bdb611e21239",
   "metadata": {},
   "outputs": [
    {
     "name": "stdout",
     "output_type": "stream",
     "text": [
      "this is my class 1\n"
     ]
    }
   ],
   "source": [
    "obj_class3.test_class1()"
   ]
  },
  {
   "cell_type": "code",
   "execution_count": 20,
   "id": "29ecf85c-c588-41f0-ba07-a75950307946",
   "metadata": {},
   "outputs": [
    {
     "name": "stdout",
     "output_type": "stream",
     "text": [
      "this is my class 2\n"
     ]
    }
   ],
   "source": [
    "obj_class3.test_class2()"
   ]
  },
  {
   "cell_type": "code",
   "execution_count": null,
   "id": "10935f6f-f39f-43d1-9747-acc89350c1a9",
   "metadata": {},
   "outputs": [],
   "source": []
  }
 ],
 "metadata": {
  "kernelspec": {
   "display_name": "Python 3 (ipykernel)",
   "language": "python",
   "name": "python3"
  },
  "language_info": {
   "codemirror_mode": {
    "name": "ipython",
    "version": 3
   },
   "file_extension": ".py",
   "mimetype": "text/x-python",
   "name": "python",
   "nbconvert_exporter": "python",
   "pygments_lexer": "ipython3",
   "version": "3.10.8"
  }
 },
 "nbformat": 4,
 "nbformat_minor": 5
}
